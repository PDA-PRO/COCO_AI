{
  "cells": [
    {
      "cell_type": "markdown",
      "metadata": {
        "id": "DwV12ASHTV09"
      },
      "source": [
        "# COCO-AI 학습 데이터 생성"
      ]
    },
    {
      "cell_type": "markdown",
      "metadata": {
        "id": "6COCDrhvTbec"
      },
      "source": [
        "## 필요한 종속성 설치"
      ]
    },
    {
      "cell_type": "code",
      "execution_count": null,
      "metadata": {
        "colab": {
          "base_uri": "https://localhost:8080/"
        },
        "id": "sFMJyzc5_Ixb",
        "outputId": "60eff750-2a1f-43e5-be52-fc39d217b95e"
      },
      "outputs": [
        {
          "name": "stdout",
          "output_type": "stream",
          "text": [
            "Cloning into 'COCO_AI'...\n",
            "remote: Enumerating objects: 230, done.\u001b[K\n",
            "remote: Counting objects: 100% (15/15), done.\u001b[K\n",
            "remote: Compressing objects: 100% (11/11), done.\u001b[K\n",
            "remote: Total 230 (delta 7), reused 10 (delta 4), pack-reused 215\u001b[K\n",
            "Receiving objects: 100% (230/230), 4.16 MiB | 4.38 MiB/s, done.\n",
            "Resolving deltas: 100% (107/107), done.\n",
            "Collecting transformers\n",
            "  Downloading transformers-4.34.1-py3-none-any.whl (7.7 MB)\n",
            "\u001b[2K     \u001b[90m━━━━━━━━━━━━━━━━━━━━━━━━━━━━━━━━━━━━━━━━\u001b[0m \u001b[32m7.7/7.7 MB\u001b[0m \u001b[31m22.3 MB/s\u001b[0m eta \u001b[36m0:00:00\u001b[0m\n",
            "\u001b[?25hRequirement already satisfied: filelock in /usr/local/lib/python3.10/dist-packages (from transformers) (3.12.4)\n",
            "Collecting huggingface-hub<1.0,>=0.16.4 (from transformers)\n",
            "  Downloading huggingface_hub-0.18.0-py3-none-any.whl (301 kB)\n",
            "\u001b[2K     \u001b[90m━━━━━━━━━━━━━━━━━━━━━━━━━━━━━━━━━━━━━━━━\u001b[0m \u001b[32m302.0/302.0 kB\u001b[0m \u001b[31m28.4 MB/s\u001b[0m eta \u001b[36m0:00:00\u001b[0m\n",
            "\u001b[?25hRequirement already satisfied: numpy>=1.17 in /usr/local/lib/python3.10/dist-packages (from transformers) (1.23.5)\n",
            "Requirement already satisfied: packaging>=20.0 in /usr/local/lib/python3.10/dist-packages (from transformers) (23.2)\n",
            "Requirement already satisfied: pyyaml>=5.1 in /usr/local/lib/python3.10/dist-packages (from transformers) (6.0.1)\n",
            "Requirement already satisfied: regex!=2019.12.17 in /usr/local/lib/python3.10/dist-packages (from transformers) (2023.6.3)\n",
            "Requirement already satisfied: requests in /usr/local/lib/python3.10/dist-packages (from transformers) (2.31.0)\n",
            "Collecting tokenizers<0.15,>=0.14 (from transformers)\n",
            "  Downloading tokenizers-0.14.1-cp310-cp310-manylinux_2_17_x86_64.manylinux2014_x86_64.whl (3.8 MB)\n",
            "\u001b[2K     \u001b[90m━━━━━━━━━━━━━━━━━━━━━━━━━━━━━━━━━━━━━━━━\u001b[0m \u001b[32m3.8/3.8 MB\u001b[0m \u001b[31m41.4 MB/s\u001b[0m eta \u001b[36m0:00:00\u001b[0m\n",
            "\u001b[?25hCollecting safetensors>=0.3.1 (from transformers)\n",
            "  Downloading safetensors-0.4.0-cp310-cp310-manylinux_2_17_x86_64.manylinux2014_x86_64.whl (1.3 MB)\n",
            "\u001b[2K     \u001b[90m━━━━━━━━━━━━━━━━━━━━━━━━━━━━━━━━━━━━━━━━\u001b[0m \u001b[32m1.3/1.3 MB\u001b[0m \u001b[31m44.6 MB/s\u001b[0m eta \u001b[36m0:00:00\u001b[0m\n",
            "\u001b[?25hRequirement already satisfied: tqdm>=4.27 in /usr/local/lib/python3.10/dist-packages (from transformers) (4.66.1)\n",
            "Requirement already satisfied: fsspec>=2023.5.0 in /usr/local/lib/python3.10/dist-packages (from huggingface-hub<1.0,>=0.16.4->transformers) (2023.6.0)\n",
            "Requirement already satisfied: typing-extensions>=3.7.4.3 in /usr/local/lib/python3.10/dist-packages (from huggingface-hub<1.0,>=0.16.4->transformers) (4.5.0)\n",
            "Collecting huggingface-hub<1.0,>=0.16.4 (from transformers)\n",
            "  Downloading huggingface_hub-0.17.3-py3-none-any.whl (295 kB)\n",
            "\u001b[2K     \u001b[90m━━━━━━━━━━━━━━━━━━━━━━━━━━━━━━━━━━━━━━━━\u001b[0m \u001b[32m295.0/295.0 kB\u001b[0m \u001b[31m28.4 MB/s\u001b[0m eta \u001b[36m0:00:00\u001b[0m\n",
            "\u001b[?25hRequirement already satisfied: charset-normalizer<4,>=2 in /usr/local/lib/python3.10/dist-packages (from requests->transformers) (3.3.0)\n",
            "Requirement already satisfied: idna<4,>=2.5 in /usr/local/lib/python3.10/dist-packages (from requests->transformers) (3.4)\n",
            "Requirement already satisfied: urllib3<3,>=1.21.1 in /usr/local/lib/python3.10/dist-packages (from requests->transformers) (2.0.7)\n",
            "Requirement already satisfied: certifi>=2017.4.17 in /usr/local/lib/python3.10/dist-packages (from requests->transformers) (2023.7.22)\n",
            "Installing collected packages: safetensors, huggingface-hub, tokenizers, transformers\n",
            "Successfully installed huggingface-hub-0.17.3 safetensors-0.4.0 tokenizers-0.14.1 transformers-4.34.1\n",
            "Collecting tree_sitter\n",
            "  Downloading tree_sitter-0.20.2-cp310-cp310-manylinux_2_17_x86_64.manylinux2014_x86_64.whl (484 kB)\n",
            "\u001b[2K     \u001b[90m━━━━━━━━━━━━━━━━━━━━━━━━━━━━━━━━━━━━━━━━\u001b[0m \u001b[32m484.3/484.3 kB\u001b[0m \u001b[31m3.3 MB/s\u001b[0m eta \u001b[36m0:00:00\u001b[0m\n",
            "\u001b[?25hInstalling collected packages: tree_sitter\n",
            "Successfully installed tree_sitter-0.20.2\n",
            "Cloning into 'tree-sitter-python'...\n",
            "remote: Enumerating objects: 3018, done.\u001b[K\n",
            "remote: Counting objects: 100% (1195/1195), done.\u001b[K\n",
            "remote: Compressing objects: 100% (108/108), done.\u001b[K\n",
            "remote: Total 3018 (delta 1114), reused 1118 (delta 1086), pack-reused 1823\u001b[K\n",
            "Receiving objects: 100% (3018/3018), 21.38 MiB | 19.56 MiB/s, done.\n",
            "Resolving deltas: 100% (1894/1894), done.\n"
          ]
        }
      ],
      "source": [
        "!git clone https://github.com/MinPangWon/COCO_AI.git\n",
        "!pip install transformers\n",
        "!pip install tree-sitter\n",
        "!pip install tree-sitter-python"
      ]
    },
    {
      "cell_type": "markdown",
      "metadata": {
        "id": "n1ReyWjiTipF"
      },
      "source": [
        "## bug code - fixed code 쌍 데이터 및 알고리즘 문제 설명문 다운로드"
      ]
    },
    {
      "cell_type": "code",
      "execution_count": null,
      "metadata": {
        "colab": {
          "base_uri": "https://localhost:8080/"
        },
        "id": "imqtUamJBoLp",
        "outputId": "1f0b950f-c6a1-4444-d42c-51de6662b726"
      },
      "outputs": [
        {
          "name": "stdout",
          "output_type": "stream",
          "text": [
            "--2023-10-25 05:32:13--  https://docs.google.com/uc?export=download&confirm=t&id=1rjjYW8SB8f5Hr34ig84OKpNYOzdt03Ar\n",
            "Resolving docs.google.com (docs.google.com)... 142.250.148.100, 142.250.148.139, 142.250.148.138, ...\n",
            "Connecting to docs.google.com (docs.google.com)|142.250.148.100|:443... connected.\n",
            "HTTP request sent, awaiting response... 303 See Other\n",
            "Location: https://doc-0s-8g-docs.googleusercontent.com/docs/securesc/ha0ro937gcuc7l7deffksulhg5h7mbp1/5n8vf8c6f3qvf45frqp62b7uejbuu735/1698211875000/03461774828726832837/*/1rjjYW8SB8f5Hr34ig84OKpNYOzdt03Ar?e=download&uuid=73e0df87-2ab2-445f-96d6-e9e24bf0e596 [following]\n",
            "Warning: wildcards not supported in HTTP.\n",
            "--2023-10-25 05:32:13--  https://doc-0s-8g-docs.googleusercontent.com/docs/securesc/ha0ro937gcuc7l7deffksulhg5h7mbp1/5n8vf8c6f3qvf45frqp62b7uejbuu735/1698211875000/03461774828726832837/*/1rjjYW8SB8f5Hr34ig84OKpNYOzdt03Ar?e=download&uuid=73e0df87-2ab2-445f-96d6-e9e24bf0e596\n",
            "Resolving doc-0s-8g-docs.googleusercontent.com (doc-0s-8g-docs.googleusercontent.com)... 172.217.219.132, 2607:f8b0:4001:c13::84\n",
            "Connecting to doc-0s-8g-docs.googleusercontent.com (doc-0s-8g-docs.googleusercontent.com)|172.217.219.132|:443... connected.\n",
            "HTTP request sent, awaiting response... 200 OK\n",
            "Length: 652946195 (623M) [application/zip]\n",
            "Saving to: ‘python.zip’\n",
            "\n",
            "python.zip          100%[===================>] 622.70M  85.4MB/s    in 5.9s    \n",
            "\n",
            "2023-10-25 05:32:20 (105 MB/s) - ‘python.zip’ saved [652946195/652946195]\n",
            "\n"
          ]
        }
      ],
      "source": [
        "!pip install gdown\n",
        "!gdown 1rjjYW8SB8f5Hr34ig84OKpNYOzdt03Ar\n",
        "# !wget --load-cookies ~/cookies.txt \"https://docs.google.com/uc?export=download&confirm=$(wget --quiet --save-cookies ~/cookies.txt --keep-session-cookies --no-check-certificate 'https://docs.google.com/uc?export=download&id=1rjjYW8SB8f5Hr34ig84OKpNYOzdt03Ar' -O- | sed -rn 's/.*confirm=([0-9A-Za-z_]+).*/\\1\\n/p')&id=1rjjYW8SB8f5Hr34ig84OKpNYOzdt03Ar\" -O python.zip && rm -rf ~/cookies.txt"
      ]
    },
    {
      "cell_type": "code",
      "execution_count": 3,
      "metadata": {
        "colab": {
          "base_uri": "https://localhost:8080/"
        },
        "id": "aRvaKI-WB6Kn",
        "outputId": "24ee145b-b623-4510-cda2-7579e69620e1"
      },
      "outputs": [
        {
          "name": "stdout",
          "output_type": "stream",
          "text": [
            "Archive:  python.zip\n",
            "   creating: data/python/\n",
            "   creating: data/python/jsons/\n",
            "  inflating: data/python/jsons/0.json  \n",
            "  inflating: data/python/jsons/1.json  \n",
            "  inflating: data/python/jsons/2.json  \n",
            "  inflating: data/python/jsons/3.json  \n",
            "  inflating: data/python/jsons/4.json  \n",
            "  inflating: data/python/jsons/5.json  \n",
            "  inflating: data/python/jsons/6.json  \n",
            "  inflating: data/python/jsons/7.json  \n",
            "  inflating: data/python/jsons/8.json  \n",
            "  inflating: data/python/jsons/9.json  \n",
            "  inflating: data/python/jsons/10.json  \n",
            "  inflating: data/python/jsons/11.json  \n",
            "  inflating: data/python/jsons/12.json  \n",
            "  inflating: data/python/jsons/13.json  \n",
            "  inflating: data/python/jsons/14.json  \n",
            "  inflating: data/python/jsons/15.json  \n",
            "  inflating: data/python/jsons/16.json  \n",
            "  inflating: data/python/jsons/17.json  \n",
            "  inflating: data/python/jsons/18.json  \n",
            "  inflating: data/python/jsons/19.json  \n",
            "  inflating: data/python/jsons/20.json  \n",
            "  inflating: data/python/jsons/21.json  \n",
            "  inflating: data/python/jsons/22.json  \n",
            "  inflating: data/python/jsons/23.json  \n",
            "  inflating: data/python/jsons/24.json  \n",
            "  inflating: data/python/jsons/25.json  \n",
            "  inflating: data/python/jsons/26.json  \n",
            "  inflating: data/python/jsons/27.json  \n",
            "  inflating: data/python/jsons/28.json  \n",
            "  inflating: data/python/jsons/29.json  \n",
            "  inflating: data/python/jsons/30.json  \n",
            "  inflating: data/python/jsons/31.json  \n",
            "  inflating: data/python/jsons/32.json  \n",
            "  inflating: data/python/jsons/33.json  \n",
            "  inflating: data/python/jsons/34.json  \n",
            "  inflating: data/python/jsons/35.json  \n",
            "  inflating: data/python/jsons/36.json  \n",
            "  inflating: data/python/jsons/37.json  \n",
            "  inflating: data/python/jsons/38.json  \n",
            "  inflating: data/python/jsons/39.json  \n",
            "  inflating: data/python/jsons/40.json  \n",
            "  inflating: data/python/jsons/41.json  \n",
            "  inflating: data/python/jsons/42.json  \n",
            "  inflating: data/python/jsons/43.json  \n",
            "  inflating: data/python/jsons/44.json  \n",
            "  inflating: data/python/jsons/45.json  \n",
            "  inflating: data/python/jsons/46.json  \n",
            "  inflating: data/python/jsons/47.json  \n",
            "  inflating: data/python/jsons/48.json  \n",
            "  inflating: data/python/jsons/49.json  \n",
            "  inflating: data/python/jsons/50.json  \n",
            "  inflating: data/python/jsons/51.json  \n",
            "  inflating: data/python/jsons/52.json  \n",
            "  inflating: data/python/jsons/53.json  \n",
            "  inflating: data/python/jsons/54.json  \n",
            "  inflating: data/python/jsons/55.json  \n",
            "  inflating: data/python/jsons/56.json  \n",
            "  inflating: data/python/jsons/57.json  \n",
            "  inflating: data/python/jsons/58.json  \n",
            "  inflating: data/python/jsons/59.json  \n",
            "  inflating: data/python/jsons/60.json  \n",
            "  inflating: data/python/jsons/61.json  \n",
            "  inflating: data/python/jsons/62.json  \n",
            "  inflating: data/python/jsons/63.json  \n",
            "  inflating: data/python/jsons/64.json  \n",
            "  inflating: data/python/jsons/65.json  \n",
            "  inflating: data/python/jsons/66.json  \n",
            "  inflating: data/python/jsons/67.json  \n",
            "  inflating: data/python/jsons/68.json  \n",
            "  inflating: data/python/jsons/69.json  \n",
            "  inflating: data/python/jsons/70.json  \n",
            "  inflating: data/python/jsons/71.json  \n",
            "  inflating: data/python/jsons/72.json  \n",
            "  inflating: data/python/jsons/73.json  \n",
            "  inflating: data/python/jsons/74.json  \n",
            "  inflating: data/python/jsons/75.json  \n",
            "  inflating: data/python/jsons/76.json  \n",
            "  inflating: data/python/jsons/77.json  \n",
            "  inflating: data/python/jsons/78.json  \n",
            "  inflating: data/python/jsons/79.json  \n",
            "  inflating: data/python/jsons/80.json  \n",
            "  inflating: data/python/jsons/81.json  \n",
            "  inflating: data/python/jsons/82.json  \n",
            "  inflating: data/python/jsons/83.json  \n",
            "  inflating: data/python/jsons/84.json  \n",
            "  inflating: data/python/jsons/85.json  \n",
            "  inflating: data/python/jsons/86.json  \n",
            "  inflating: data/python/jsons/87.json  \n",
            "  inflating: data/python/jsons/88.json  \n",
            "  inflating: data/python/jsons/89.json  \n",
            "  inflating: data/python/jsons/90.json  \n",
            "  inflating: data/python/jsons/91.json  \n",
            "  inflating: data/python/jsons/92.json  \n",
            "  inflating: data/python/jsons/93.json  \n",
            "  inflating: data/python/jsons/94.json  \n",
            "  inflating: data/python/jsons/95.json  \n",
            "  inflating: data/python/jsons/96.json  \n",
            "  inflating: data/python/jsons/97.json  \n",
            "  inflating: data/python/jsons/98.json  \n",
            "  inflating: data/python/jsons/99.json  \n",
            "  inflating: data/python/jsons/100.json  \n",
            "  inflating: data/python/jsons/101.json  \n",
            "  inflating: data/python/jsons/102.json  \n",
            "  inflating: data/python/jsons/103.json  \n",
            "  inflating: data/python/jsons/104.json  \n",
            "  inflating: data/python/jsons/105.json  \n",
            "  inflating: data/python/jsons/106.json  \n",
            "  inflating: data/python/jsons/107.json  \n",
            "  inflating: data/python/jsons/108.json  \n",
            "  inflating: data/python/jsons/109.json  \n",
            "  inflating: data/python/jsons/110.json  \n",
            "  inflating: data/python/jsons/111.json  \n",
            "  inflating: data/python/jsons/112.json  \n",
            "  inflating: data/python/jsons/113.json  \n",
            "  inflating: data/python/jsons/114.json  \n",
            "  inflating: data/python/jsons/115.json  \n",
            "   creating: data/python/processed/\n",
            "   creating: data/python/processed_with_verdict/\n",
            "/content\n",
            "0.json\t  10.json   15.json  25.json  35.json  45.json\t55.json  65.json  75.json  85.json  95.json\n",
            "100.json  110.json  16.json  26.json  36.json  46.json\t56.json  66.json  76.json  86.json  96.json\n",
            "101.json  111.json  17.json  27.json  37.json  47.json\t57.json  67.json  77.json  87.json  97.json\n",
            "102.json  112.json  18.json  28.json  38.json  48.json\t58.json  68.json  78.json  88.json  98.json\n",
            "103.json  113.json  19.json  29.json  39.json  49.json\t59.json  69.json  79.json  89.json  99.json\n",
            "104.json  114.json  1.json   2.json   3.json   4.json\t5.json\t 6.json   7.json   8.json   9.json\n",
            "105.json  115.json  20.json  30.json  40.json  50.json\t60.json  70.json  80.json  90.json\n",
            "106.json  11.json   21.json  31.json  41.json  51.json\t61.json  71.json  81.json  91.json\n",
            "107.json  12.json   22.json  32.json  42.json  52.json\t62.json  72.json  82.json  92.json\n",
            "108.json  13.json   23.json  33.json  43.json  53.json\t63.json  73.json  83.json  93.json\n",
            "109.json  14.json   24.json  34.json  44.json  54.json\t64.json  74.json  84.json  94.json\n"
          ]
        }
      ],
      "source": [
        "# 압축 해제 및 필요없는 폴더 삭제\n",
        "!unzip python.zip -x *.id *.python *.jsonl\n",
        "!ln -s data/python/jsons jsons\n",
        "!pwd\n",
        "!ls jsons"
      ]
    },
    {
      "cell_type": "code",
      "execution_count": 4,
      "metadata": {
        "colab": {
          "base_uri": "https://localhost:8080/"
        },
        "id": "daoFjs12CLMi",
        "outputId": "a24b55ff-0d23-4f74-82aa-e52dfb65c1df"
      },
      "outputs": [
        {
          "name": "stdout",
          "output_type": "stream",
          "text": [
            "--2023-10-25 05:32:53--  https://dax-cdn.cdn.appdomain.cloud/dax-project-codenet/1.0.0/Project_CodeNet_metadata.tar.gz\n",
            "Resolving dax-cdn.cdn.appdomain.cloud (dax-cdn.cdn.appdomain.cloud)... 104.98.78.99, 2600:1407:3c00:28c::d2d, 2600:1407:3c00:284::d2d\n",
            "Connecting to dax-cdn.cdn.appdomain.cloud (dax-cdn.cdn.appdomain.cloud)|104.98.78.99|:443... connected.\n",
            "HTTP request sent, awaiting response... 200 OK\n",
            "Length: 294521596 (281M) [application/x-gtar]\n",
            "Saving to: ‘Project_CodeNet_metadata.tar.gz’\n",
            "\n",
            "Project_CodeNet_met 100%[===================>] 280.88M  32.2MB/s    in 9.2s    \n",
            "\n",
            "2023-10-25 05:33:03 (30.5 MB/s) - ‘Project_CodeNet_metadata.tar.gz’ saved [294521596/294521596]\n",
            "\n"
          ]
        }
      ],
      "source": [
        "#다운로드 및 불필요한 폴더 제거\n",
        "!wget https://dax-cdn.cdn.appdomain.cloud/dax-project-codenet/1.0.0/Project_CodeNet_metadata.tar.gz\n",
        "!tar -xf Project_CodeNet_metadata.tar.gz\n",
        "!rm -rf Project_CodeNet/metadata"
      ]
    },
    {
      "cell_type": "markdown",
      "metadata": {
        "id": "L9526mUmTxPx"
      },
      "source": [
        "## 학습 데이터셋 생성"
      ]
    },
    {
      "cell_type": "code",
      "execution_count": null,
      "metadata": {
        "colab": {
          "base_uri": "https://localhost:8080/"
        },
        "id": "k3kNWUYBHRLS",
        "outputId": "ac43b23d-957d-46e9-ba4f-344af658dd39"
      },
      "outputs": [
        {
          "name": "stdout",
          "output_type": "stream",
          "text": [
            "\rDownloading (…)okenizer_config.json:   0% 0.00/25.0 [00:00<?, ?B/s]\rDownloading (…)okenizer_config.json: 100% 25.0/25.0 [00:00<00:00, 101kB/s]\n",
            "\rDownloading (…)olve/main/vocab.json:   0% 0.00/899k [00:00<?, ?B/s]\rDownloading (…)olve/main/vocab.json: 100% 899k/899k [00:00<00:00, 14.5MB/s]\n",
            "Downloading (…)olve/main/merges.txt: 100% 456k/456k [00:00<00:00, 56.3MB/s]\n",
            "Downloading (…)cial_tokens_map.json: 100% 772/772 [00:00<00:00, 4.01MB/s]\n",
            "Downloading (…)lve/main/config.json: 100% 539/539 [00:00<00:00, 1.99MB/s]\n",
            "extract WA code pair\n",
            "0\n",
            "10\n",
            "20\n",
            "30\n",
            "40\n",
            "50\n",
            "60\n",
            "70\n",
            "80\n",
            "90\n",
            "100\n",
            "110\n",
            "total WA code pair num :  653742\n",
            "prepare problem_descriptions\n",
            "abstracte code pair\n",
            "0\n",
            "10\n"
          ]
        }
      ],
      "source": [
        "!python ./COCO_AI/wpc-finetuning/data_pre_process.py --code_pair_path jsons/ --p_desc_path Project_CodeNet/problem_descriptions/ --tokenizer_name microsoft/graphcodebert-base"
      ]
    },
    {
      "cell_type": "markdown",
      "metadata": {
        "id": "2T2PLMTASnyx"
      },
      "source": [
        "## 학습 데이터셋 다운로드\n",
        "\n",
        "- 자신의 구글 드라이브로 이동\n",
        "- 직접 /content/ 폴더로 들어가서 직접 다운로드\n",
        "  - /data/val.json : 검증 데이터\n",
        "  - /data/train.json : 학습 데이터\n",
        "  - /data/test.json : 테스트 데이터\n",
        "  - /tmp_p_desc 폴더 : 알고리즘 문제 설명문"
      ]
    },
    {
      "cell_type": "code",
      "execution_count": null,
      "metadata": {
        "id": "szlCZOVXgw9h"
      },
      "outputs": [],
      "source": [
        "# 구글 드라이브로 이동\n",
        "from google.colab import drive\n",
        "drive.mount('/content/drive')\n",
        "!mv ./data/val.json ./drive/MyDrive/val.json\n",
        "!mv ./data/train.json ./drive/MyDrive/train.json\n",
        "!mv ./data/test.json ./drive/MyDrive/test.json\n",
        "!mv ./tmp_p_desc ./drive/MyDrive/tmp_p_desc"
      ]
    },
    {
      "cell_type": "markdown",
      "metadata": {
        "id": "na4pXF0eTPxd"
      },
      "source": [
        "## 문제별 코드 수를 확인"
      ]
    },
    {
      "cell_type": "code",
      "execution_count": null,
      "metadata": {
        "colab": {
          "base_uri": "https://localhost:8080/"
        },
        "id": "ckMy3JFRY8Lv",
        "outputId": "2cd86b75-e2c4-4376-cffd-5c26e3278155"
      },
      "outputs": [
        {
          "name": "stdout",
          "output_type": "stream",
          "text": [
            "clac code pair count per problem\n"
          ]
        }
      ],
      "source": [
        "\n",
        "import json\n",
        "#문제별 코드 수\n",
        "print(\"clac code pair count per problem\")\n",
        "temp={}\n",
        "with open(\"./drive/MyDrive/coco_ai/train.json\", 'r') as f:\n",
        "    trainfile=json.load(f)\n",
        "    for i in trainfile:\n",
        "      if temp.get(i[\"p_name\"]):\n",
        "        temp[i[\"p_name\"]]+=1\n",
        "      else:\n",
        "        temp[i[\"p_name\"]]=1\n",
        "    with open('nl_pl_p_num.json', 'w',encoding='utf-8') as mkf:\n",
        "        json.dump(temp, mkf, indent=\"\\t\")"
      ]
    }
  ],
  "metadata": {
    "colab": {
      "provenance": []
    },
    "kernelspec": {
      "display_name": "Python 3",
      "name": "python3"
    },
    "language_info": {
      "name": "python"
    }
  },
  "nbformat": 4,
  "nbformat_minor": 0
}
