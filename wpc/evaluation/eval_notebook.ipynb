{
 "cells": [
  {
   "cell_type": "code",
   "execution_count": 1,
   "id": "ef6ebf3d-2eab-4a4c-893c-ed859ed720ee",
   "metadata": {},
   "outputs": [
    {
     "name": "stdout",
     "output_type": "stream",
     "text": [
      "PyTorch version: 2.6.0+cu124\n",
      "CUDA available: True\n",
      "CUDA version: 12.4\n",
      "cuDNN version: 90100\n"
     ]
    }
   ],
   "source": [
    "import torch\n",
    "\n",
    "print(\"PyTorch version:\", torch.__version__)\n",
    "print(\"CUDA available:\", torch.cuda.is_available())\n",
    "print(\"CUDA version:\", torch.version.cuda)\n",
    "print(\"cuDNN version:\", torch.backends.cudnn.version())"
   ]
  },
  {
   "cell_type": "code",
   "execution_count": null,
   "id": "105ef7b7-0c22-4fc2-bd0f-0c6d83435fec",
   "metadata": {},
   "outputs": [
    {
     "name": "stdout",
     "output_type": "stream",
     "text": [
      "Cloning into 'COCO_AI'...\n",
      "remote: Enumerating objects: 316, done.\u001b[K\n",
      "remote: Counting objects: 100% (104/104), done.\u001b[K\n",
      "remote: Compressing objects: 100% (74/74), done.\u001b[K\n",
      "remote: Total 316 (delta 49), reused 70 (delta 29), pack-reused 212 (from 1)\u001b[K\n",
      "Receiving objects: 100% (316/316), 4.20 MiB | 11.45 MiB/s, done.\n",
      "Resolving deltas: 100% (148/148), done.\n"
     ]
    }
   ],
   "source": [
    "!git clone https://github.com/PDA-PRO/COCO_AI.git\n",
    "!git clone https://github.com/PDA-PRO/COCO_Back_End.git"
   ]
  },
  {
   "cell_type": "code",
   "execution_count": null,
   "id": "040d8764-30e1-4878-b6a2-0461cde1cfc5",
   "metadata": {},
   "outputs": [
    {
     "name": "stdout",
     "output_type": "stream",
     "text": [
      "Collecting tree-sitter-python\n",
      "  Downloading tree_sitter_python-0.23.6-cp39-abi3-manylinux_2_5_x86_64.manylinux1_x86_64.manylinux_2_17_x86_64.manylinux2014_x86_64.whl.metadata (1.9 kB)\n",
      "Collecting codebleu\n",
      "  Downloading codebleu-0.7.0-py3-none-any.whl.metadata (8.1 kB)\n",
      "Collecting tree-sitter<0.23.0,>=0.22.0 (from codebleu)\n",
      "  Downloading tree_sitter-0.22.3-cp311-cp311-manylinux_2_17_x86_64.manylinux2014_x86_64.whl.metadata (10 kB)\n",
      "Requirement already satisfied: setuptools>=61.0.0 in /opt/conda/lib/python3.11/site-packages (from codebleu) (75.8.0)\n",
      "Downloading tree_sitter_python-0.23.6-cp39-abi3-manylinux_2_5_x86_64.manylinux1_x86_64.manylinux_2_17_x86_64.manylinux2014_x86_64.whl (112 kB)\n",
      "Downloading codebleu-0.7.0-py3-none-any.whl (31 kB)\n",
      "Downloading tree_sitter-0.22.3-cp311-cp311-manylinux_2_17_x86_64.manylinux2014_x86_64.whl (544 kB)\n",
      "\u001b[2K   \u001b[90m━━━━━━━━━━━━━━━━━━━━━━━━━━━━━━━━━━━━━━━━\u001b[0m \u001b[32m544.2/544.2 kB\u001b[0m \u001b[31m20.1 MB/s\u001b[0m eta \u001b[36m0:00:00\u001b[0m\n",
      "\u001b[?25hInstalling collected packages: tree-sitter-python, tree-sitter, codebleu\n",
      "Successfully installed codebleu-0.7.0 tree-sitter-0.22.3 tree-sitter-python-0.23.6\n",
      "\u001b[33mWARNING: Running pip as the 'root' user can result in broken permissions and conflicting behaviour with the system package manager, possibly rendering your system unusable.It is recommended to use a virtual environment instead: https://pip.pypa.io/warnings/venv. Use the --root-user-action option if you know what you are doing and want to suppress this warning.\u001b[0m\u001b[33m\n",
      "\u001b[0mFound existing installation: tree-sitter 0.22.3\n",
      "Uninstalling tree-sitter-0.22.3:\n",
      "  Successfully uninstalled tree-sitter-0.22.3\n",
      "\u001b[33mWARNING: Running pip as the 'root' user can result in broken permissions and conflicting behaviour with the system package manager, possibly rendering your system unusable.It is recommended to use a virtual environment instead: https://pip.pypa.io/warnings/venv. Use the --root-user-action option if you know what you are doing and want to suppress this warning.\u001b[0m\u001b[33m\n",
      "\u001b[0mCollecting tree-sitter==0.23.0\n",
      "  Downloading tree_sitter-0.23.0-cp311-cp311-manylinux_2_17_x86_64.manylinux2014_x86_64.whl.metadata (10 kB)\n",
      "Downloading tree_sitter-0.23.0-cp311-cp311-manylinux_2_17_x86_64.manylinux2014_x86_64.whl (559 kB)\n",
      "\u001b[2K   \u001b[90m━━━━━━━━━━━━━━━━━━━━━━━━━━━━━━━━━━━━━━━━\u001b[0m \u001b[32m559.9/559.9 kB\u001b[0m \u001b[31m15.0 MB/s\u001b[0m eta \u001b[36m0:00:00\u001b[0m\n",
      "\u001b[?25hInstalling collected packages: tree-sitter\n",
      "\u001b[31mERROR: pip's dependency resolver does not currently take into account all the packages that are installed. This behaviour is the source of the following dependency conflicts.\n",
      "codebleu 0.7.0 requires tree-sitter<0.23.0,>=0.22.0, but you have tree-sitter 0.23.0 which is incompatible.\u001b[0m\u001b[31m\n",
      "\u001b[0mSuccessfully installed tree-sitter-0.23.0\n",
      "\u001b[33mWARNING: Running pip as the 'root' user can result in broken permissions and conflicting behaviour with the system package manager, possibly rendering your system unusable.It is recommended to use a virtual environment instead: https://pip.pypa.io/warnings/venv. Use the --root-user-action option if you know what you are doing and want to suppress this warning.\u001b[0m\u001b[33m\n",
      "\u001b[0m"
     ]
    }
   ],
   "source": [
    "!pip install tree-sitter-python\n",
    "!pip install transformers\n",
    "!apt install unzip -y"
   ]
  },
  {
   "cell_type": "markdown",
   "id": "e76394b2",
   "metadata": {},
   "source": [
    "## 알고리즘 문제 설명, 테스트 케이스 준비"
   ]
  },
  {
   "cell_type": "code",
   "execution_count": null,
   "id": "f9e26e81",
   "metadata": {},
   "outputs": [],
   "source": [
    "import os\n",
    "import zipfile\n",
    "import subprocess\n",
    "\n",
    "# 1. 압축 해제 대상 경로\n",
    "base_zip_path = \"COCO_Back_End/base_task_set/base_task_set.zip\"  # 분할압축의 .zip 부분\n",
    "extract_path = \"/bast_task_set\"\n",
    "\n",
    "# 2. 먼저 /bast_task_set 경로가 없다면 생성\n",
    "os.makedirs(extract_path, exist_ok=True)\n",
    "\n",
    "# 3. unzip 명령어로 분할압축 해제\n",
    "print(f\"[INFO] Extracting multi-part zip with unzip: {base_zip_path}\")\n",
    "result = subprocess.run([\"unzip\", base_zip_path, \"-d\", extract_path], capture_output=True, text=True)\n",
    "\n",
    "if result.returncode != 0:\n",
    "    print(\"[ERROR] Failed to unzip base_task_set.zip:\")\n",
    "    print(result.stderr)\n",
    "    exit(1)\n",
    "else:\n",
    "    print(\"[INFO] Successfully extracted base_task_set.zip\")\n",
    "\n",
    "# 4. TC 폴더 내의 문제번호.zip 파일들 압축 해제\n",
    "tc_path = os.path.join(extract_path, \"TC\")\n",
    "\n",
    "for fname in os.listdir(tc_path):\n",
    "    if fname.endswith(\".zip\"):\n",
    "        zip_file_path = os.path.join(tc_path, fname)\n",
    "        problem_id = fname[:-4]  # e.g., \"1001.zip\" -> \"1001\"\n",
    "        output_dir = os.path.join(tc_path, problem_id)\n",
    "        os.makedirs(output_dir, exist_ok=True)\n",
    "\n",
    "        with zipfile.ZipFile(zip_file_path, 'r') as zip_ref:\n",
    "            zip_ref.extractall(output_dir)\n",
    "            print(f\"[INFO] Extracted {fname} to {output_dir}\")\n"
   ]
  },
  {
   "cell_type": "code",
   "execution_count": null,
   "id": "cd49c44d-8b6d-4153-a3c7-8db70bb5e5f6",
   "metadata": {},
   "outputs": [
    {
     "name": "stdout",
     "output_type": "stream",
     "text": [
      "[Errno 2] No such file or directory: 'COCO_AI/wpc/'\n",
      "/COCO_AI/wpc/desc\n",
      "[Errno 2] No such file or directory: 'desc/'\n",
      "/COCO_AI/wpc/desc\n"
     ]
    }
   ],
   "source": [
    "# 알고리즘 문제 설명 압축 해제\n",
    "%cd COCO_AI/wpc/desc/\n",
    "!unzip -q desc.zip"
   ]
  },
  {
   "cell_type": "markdown",
   "id": "bce78287",
   "metadata": {},
   "source": [
    "## fixed code 생성"
   ]
  },
  {
   "cell_type": "code",
   "execution_count": null,
   "id": "078e4190-3652-4fd1-b18e-2588c9aa32e5",
   "metadata": {},
   "outputs": [],
   "source": [
    "%cd ../evaluation\n",
    "!python run.py --test_data_file /base_task_set_code_fairs.json --model_path /model"
   ]
  },
  {
   "cell_type": "markdown",
   "id": "4f342484",
   "metadata": {},
   "source": [
    "## fixed code 채점"
   ]
  },
  {
   "cell_type": "code",
   "execution_count": null,
   "id": "9ba41dbb",
   "metadata": {},
   "outputs": [],
   "source": [
    "!python scoring.py --output_jsonl_path pred_base_task_set_code_fairs.jsonl --base_task_dir /bast_task_set --task_detail_path /bast_task_set/task_detail.json"
   ]
  }
 ],
 "metadata": {
  "kernelspec": {
   "display_name": "Python 3 (ipykernel)",
   "language": "python",
   "name": "python3"
  },
  "language_info": {
   "codemirror_mode": {
    "name": "ipython",
    "version": 3
   },
   "file_extension": ".py",
   "mimetype": "text/x-python",
   "name": "python",
   "nbconvert_exporter": "python",
   "pygments_lexer": "ipython3",
   "version": "3.11.11"
  }
 },
 "nbformat": 4,
 "nbformat_minor": 5
}
